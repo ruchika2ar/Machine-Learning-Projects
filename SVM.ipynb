{
 "cells": [
  {
   "cell_type": "markdown",
   "metadata": {},
   "source": [
    "## Code and Output"
   ]
  },
  {
   "cell_type": "code",
   "execution_count": 1,
   "metadata": {},
   "outputs": [],
   "source": [
    "import pandas as pd\n",
    "import numpy as np\n",
    "import matplotlib.pyplot as plt\n",
    "from sklearn.datasets import load_iris"
   ]
  },
  {
   "cell_type": "code",
   "execution_count": 2,
   "metadata": {},
   "outputs": [
    {
     "data": {
      "text/plain": [
       "dict_keys(['data', 'target', 'target_names', 'DESCR', 'feature_names', 'filename'])"
      ]
     },
     "execution_count": 2,
     "metadata": {},
     "output_type": "execute_result"
    }
   ],
   "source": [
    "dataset = load_iris()\n",
    "dataset.keys()"
   ]
  },
  {
   "cell_type": "code",
   "execution_count": 3,
   "metadata": {},
   "outputs": [
    {
     "data": {
      "text/plain": [
       "['sepal length (cm)',\n",
       " 'sepal width (cm)',\n",
       " 'petal length (cm)',\n",
       " 'petal width (cm)']"
      ]
     },
     "execution_count": 3,
     "metadata": {},
     "output_type": "execute_result"
    }
   ],
   "source": [
    "dataset.feature_names"
   ]
  },
  {
   "cell_type": "code",
   "execution_count": 4,
   "metadata": {},
   "outputs": [],
   "source": [
    "y = np.array(dataset.target)\n",
    "X = pd.DataFrame(dataset.data)"
   ]
  },
  {
   "cell_type": "code",
   "execution_count": 5,
   "metadata": {},
   "outputs": [
    {
     "data": {
      "text/html": [
       "<div>\n",
       "<style scoped>\n",
       "    .dataframe tbody tr th:only-of-type {\n",
       "        vertical-align: middle;\n",
       "    }\n",
       "\n",
       "    .dataframe tbody tr th {\n",
       "        vertical-align: top;\n",
       "    }\n",
       "\n",
       "    .dataframe thead th {\n",
       "        text-align: right;\n",
       "    }\n",
       "</style>\n",
       "<table border=\"1\" class=\"dataframe\">\n",
       "  <thead>\n",
       "    <tr style=\"text-align: right;\">\n",
       "      <th></th>\n",
       "      <th>petal_length</th>\n",
       "      <th>petal_width</th>\n",
       "    </tr>\n",
       "  </thead>\n",
       "  <tbody>\n",
       "    <tr>\n",
       "      <th>0</th>\n",
       "      <td>1.4</td>\n",
       "      <td>0.2</td>\n",
       "    </tr>\n",
       "    <tr>\n",
       "      <th>1</th>\n",
       "      <td>1.4</td>\n",
       "      <td>0.2</td>\n",
       "    </tr>\n",
       "    <tr>\n",
       "      <th>2</th>\n",
       "      <td>1.3</td>\n",
       "      <td>0.2</td>\n",
       "    </tr>\n",
       "    <tr>\n",
       "      <th>3</th>\n",
       "      <td>1.5</td>\n",
       "      <td>0.2</td>\n",
       "    </tr>\n",
       "    <tr>\n",
       "      <th>4</th>\n",
       "      <td>1.4</td>\n",
       "      <td>0.2</td>\n",
       "    </tr>\n",
       "  </tbody>\n",
       "</table>\n",
       "</div>"
      ],
      "text/plain": [
       "   petal_length  petal_width\n",
       "0           1.4          0.2\n",
       "1           1.4          0.2\n",
       "2           1.3          0.2\n",
       "3           1.5          0.2\n",
       "4           1.4          0.2"
      ]
     },
     "execution_count": 5,
     "metadata": {},
     "output_type": "execute_result"
    }
   ],
   "source": [
    "# choosing classes Iris - Versicolor and Iris - Setosa\n",
    "indices = y < 2\n",
    "y = y[indices]\n",
    "# choosing petal length in cm and petal width in cm as the features\n",
    "X = X[indices].loc[:, [2, 3]]\n",
    "X = X.rename(columns = {2 : 'petal_length', 3: 'petal_width'})\n",
    "X.head()"
   ]
  },
  {
   "cell_type": "code",
   "execution_count": 6,
   "metadata": {},
   "outputs": [
    {
     "name": "stdout",
     "output_type": "stream",
     "text": [
      "(100, 2) (100,)\n"
     ]
    }
   ],
   "source": [
    "print(X.shape, y.shape)"
   ]
  },
  {
   "cell_type": "code",
   "execution_count": 7,
   "metadata": {},
   "outputs": [
    {
     "data": {
      "image/png": "[encoded data removed]",
      "text/plain": [
       "<Figure size 432x288 with 1 Axes>"
      ]
     },
     "metadata": {
      "needs_background": "light"
     },
     "output_type": "display_data"
    }
   ],
   "source": [
    "iris_setosa = X[y == 0]\n",
    "iris_versicolor = X[y == 1]\n",
    "fig, ax = plt.subplots(1)\n",
    "ax.plot(iris_versicolor['petal_length'], iris_versicolor['petal_width'], 'b*', label = 'Iris-Versicolor')\n",
    "ax.plot(iris_setosa['petal_length'], iris_setosa['petal_width'], 'y^', label = 'Iris-Setosa')\n",
    "plt.xlabel('Petal length')\n",
    "plt.ylabel('Petal width')\n",
    "ax.legend()\n",
    "plt.title('Dataset distribution')\n",
    "plt.show()"
   ]
  },
  {
   "cell_type": "code",
   "execution_count": 8,
   "metadata": {},
   "outputs": [],
   "source": [
    "y.resize((y.shape[0], 1))\n",
    "X = np.array(X)"
   ]
  },
  {
   "cell_type": "code",
   "execution_count": 9,
   "metadata": {},
   "outputs": [],
   "source": [
    "indices_test = list(range(40, 50))  + list(range(90, 100))\n",
    "indices_train = list(range(0, 40)) + list(range(50, 90))\n",
    "y_test = y[indices_test, :]\n",
    "X_test = X[indices_test, :]\n",
    "X = X[indices_train, :]\n",
    "y = y[indices_train, :]\n"
   ]
  },
  {
   "cell_type": "code",
   "execution_count": 10,
   "metadata": {},
   "outputs": [
    {
     "name": "stdout",
     "output_type": "stream",
     "text": [
      "(80, 2) (80, 1)\n"
     ]
    }
   ],
   "source": [
    "t = np.array(y, dtype = float)\n",
    "t[t < 1] = -1\n",
    "t.resize((y.shape[0], 1))\n",
    "print(X.shape, t.shape)"
   ]
  },
  {
   "cell_type": "code",
   "execution_count": 11,
   "metadata": {},
   "outputs": [],
   "source": [
    "X[:, 0] = (X[:, 0] - np.mean(X[:, 0])) / np.std(X[:, 0])\n",
    "X[:, 1] = (X[:, 1] - np.mean(X[:, 1])) / np.std(X[:, 1])"
   ]
  },
  {
   "cell_type": "code",
   "execution_count": 12,
   "metadata": {},
   "outputs": [],
   "source": [
    "class SVM:\n",
    "    def __init__(self):\n",
    "        pass\n",
    "    \n",
    "    def predict(self, X, theta):\n",
    "        X_new = np.c_[X, np.ones((X.shape[0], 1))]\n",
    "        y_pred = X_new.dot(theta)\n",
    "        y_pred[y_pred < 0] = 0\n",
    "        y_pred[y_pred > 0] = 1\n",
    "        return y_pred\n",
    "    \n",
    "    def compute_hinge_loss(self, X, t, theta):\n",
    "        X_new = np.c_[X, np.ones((X.shape[0], 1))]\n",
    "        hinge_loss = 1 - (t * X_new.dot(theta))\n",
    "        hinge_loss[hinge_loss <= 0] = 0\n",
    "        return hinge_loss\n",
    "    \n",
    "    def compute_error(self, X, t, theta, C):\n",
    "        hinge_loss = self.compute_hinge_loss(X, t, theta)\n",
    "        loss = 0.5 * theta.T.dot(theta) + (C * np.sum(hinge_loss, axis = 0))\n",
    "        return loss\n",
    "        \n",
    "    def fit (self, X, t, init_theta, max_iter = 500, C = 0.1, eta = 0.001):\n",
    "        X_new = np.c_[X, np.ones((X.shape[0], 1))]\n",
    "        theta = init_theta\n",
    "        error = np.zeros((max_iter, 1))\n",
    "        for iteration in range(max_iter):\n",
    "            hinge_loss = self.compute_hinge_loss(X, t, theta)\n",
    "            t_new = np.array(t)\n",
    "            t_new[hinge_loss == 0] = 0\n",
    "            Xt = -1 * X * t_new\n",
    "            hinge_loss_gradient = np.sum(Xt)\n",
    "            gradient = np.sum(theta, axis = 0) + C * hinge_loss_gradient\n",
    "            theta = theta - eta * gradient\n",
    "            error[iteration] = self.compute_error(X, t, theta, C)\n",
    "        plt.plot(range(1, max_iter + 1, 1), error)\n",
    "        plt.title('Value of Cost function for successive iterations')\n",
    "        plt.xlabel('Iterations')\n",
    "        plt.ylabel('Value of Cost Function')\n",
    "        plt.show()\n",
    "        return theta\n",
    "            "
   ]
  },
  {
   "cell_type": "code",
   "execution_count": 13,
   "metadata": {},
   "outputs": [
    {
     "data": {
      "image/png": "[encoded data removed]",
      "text/plain": [
       "<Figure size 432x288 with 1 Axes>"
      ]
     },
     "metadata": {
      "needs_background": "light"
     },
     "output_type": "display_data"
    }
   ],
   "source": [
    "init_theta = np.array([[ 0.03401362], [ 0.51524769],[-0.41041525]])\n",
    "svm = SVM()\n",
    "theta = svm.fit(X, t, init_theta, C = 0.008, eta = 0.0001, max_iter = 1000)"
   ]
  },
  {
   "cell_type": "code",
   "execution_count": 14,
   "metadata": {},
   "outputs": [
    {
     "name": "stdout",
     "output_type": "stream",
     "text": [
      "Train accuracy is 0.925000\n"
     ]
    }
   ],
   "source": [
    "y_pred_train = svm.predict(X, theta)\n",
    "train_accuracy = np.sum(y_pred_train == y) / X.shape[0]\n",
    "print('Train accuracy is %f' %train_accuracy)"
   ]
  },
  {
   "cell_type": "code",
   "execution_count": 15,
   "metadata": {},
   "outputs": [
    {
     "name": "stdout",
     "output_type": "stream",
     "text": [
      "Test accuracy is 0.900000\n"
     ]
    }
   ],
   "source": [
    "y_pred_test = svm.predict(X_test, theta)\n",
    "test_accuracy = np.sum(y_pred_test == y_test) / X_test.shape[0]\n",
    "print('Test accuracy is %f' %test_accuracy)"
   ]
  }
 ],
 "metadata": {
  "kernelspec": {
   "display_name": "Python 3",
   "language": "python",
   "name": "python3"
  },
  "language_info": {
   "codemirror_mode": {
    "name": "ipython",
    "version": 3
   },
   "file_extension": ".py",
   "mimetype": "text/x-python",
   "name": "python",
   "nbconvert_exporter": "python",
   "pygments_lexer": "ipython3",
   "version": "3.7.1"
  }
 },
 "nbformat": 4,
 "nbformat_minor": 2
}
